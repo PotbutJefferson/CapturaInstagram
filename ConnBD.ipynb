{
 "cells": [
  {
   "cell_type": "code",
   "execution_count": 39,
   "metadata": {},
   "outputs": [],
   "source": [
    "import pymongo\n",
    "from pymongo import MongoClient\n",
    "\n",
    "class ConnBD:\n",
    "  def __init__(self, host = \"localhost\", port = 27017, database = \"ConectandoMongoDB\", collection = \"Usuarios\"):\n",
    "    self.host       = host\n",
    "    self.port       = port\n",
    "    self.database   = database\n",
    "    self.collection = collection\n",
    "\n",
    "  def getCollection(self):\n",
    "    return self.collection\n",
    "\n",
    "  def getDatabase(self):\n",
    "    return self.database\n",
    "\n",
    "  def conectar(self):\n",
    "    self.conn = MongoClient(self.host, self.port).get_database(self.database).get_collection(self.collection)\n",
    "\n",
    "  def insereRegistros(self, registers):\n",
    "    self.conectar()\n",
    "    self.conn.insert_many(registers)\n",
    "\n",
    "  def consultaRegistros(self, condition):\n",
    "    self.conectar()\n",
    "    res = self.conn.find(condition)\n",
    "    return res\n",
    "\n",
    "  def consultaTodosRegistros(self):\n",
    "    self.conectar()\n",
    "    res = self.conn.find()\n",
    "    return res\n",
    "\n",
    "  def qtdeRegistros(self):\n",
    "    self.conectar()\n",
    "    res = self.conn.count()\n",
    "    return res"
   ]
  }
 ],
 "metadata": {
  "kernelspec": {
   "display_name": "Python 3",
   "language": "python",
   "name": "python3"
  },
  "language_info": {
   "codemirror_mode": {
    "name": "ipython",
    "version": 3
   },
   "file_extension": ".py",
   "mimetype": "text/x-python",
   "name": "python",
   "nbconvert_exporter": "python",
   "pygments_lexer": "ipython3",
   "version": "3.8.5"
  }
 },
 "nbformat": 4,
 "nbformat_minor": 4
}
